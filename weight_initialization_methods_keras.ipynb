{
  "cells": [
    {
      "cell_type": "markdown",
      "metadata": {
        "id": "view-in-github",
        "colab_type": "text"
      },
      "source": [
        "<a href=\"https://colab.research.google.com/github/vanyanenkov/Alternative-exam/blob/main/weight_initialization_methods_keras.ipynb\" target=\"_parent\"><img src=\"https://colab.research.google.com/assets/colab-badge.svg\" alt=\"Open In Colab\"/></a>"
      ]
    },
    {
      "metadata": {
        "id": "TF_RuOtmjnVc"
      },
      "cell_type": "markdown",
      "source": [
        "## Importance of Weight Initialization during training of Neural Networks"
      ]
    },
    {
      "metadata": {
        "id": "M_Yfn1bDjnVe"
      },
      "cell_type": "markdown",
      "source": [
        "Training a neural network completely depends upon the type of parameters used to initialize the network. If the initialization of parameters is done correctly, the optimization or the result will be achieved in minimal time and if not initialized properly will lead to problems. In simple words, the performance of the neural network depends on how its parameters are initialized when it is starting to train. If we train a neural network with random weights, then the output becomes non-reproducible. On the other hand, if we train the neural network with constantly valued weights, then it would consume a lot of time to converge. In this, we will compare the accuracy of all the keras initializers and also look at the visualization as well. Snippets of the code have been displayed here because the visualization was done on wandb. Adding to it the model was trained for 20 epochs and dataset chosen was MNIST dataset."
      ]
    },
    {
      "metadata": {
        "id": "eKMA15sqjnVf"
      },
      "cell_type": "markdown",
      "source": [
        "Consider upvoting if it helps you!"
      ]
    },
    {
      "metadata": {
        "id": "Tupy73WZjnVg"
      },
      "cell_type": "markdown",
      "source": [
        "**Data and Model**"
      ]
    },
    {
      "metadata": {
        "id": "YBWROEPFjnVg"
      },
      "cell_type": "markdown",
      "source": [
        "To visualize and understand the performance level of the initializers, I have used the MNIST dataset. The MNIST database (Modified National Institute of Standards and Technology database) is a large database of handwritten digits that is commonly used for training various image processing systems. The database is also widely used for training and testing in the field of machine learning."
      ]
    },
    {
      "metadata": {
        "id": "woMLLPaujnVg"
      },
      "cell_type": "markdown",
      "source": [
        "![image.png](attachment:image.png)"
      ]
    },
    {
      "metadata": {
        "id": "MSUXnGgCjnVh"
      },
      "cell_type": "markdown",
      "source": [
        "The model architecture used to train is the following:"
      ]
    },
    {
      "metadata": {
        "id": "_Q0urGaWjnVh"
      },
      "cell_type": "markdown",
      "source": [
        "![image.png](attachment:image.png)"
      ]
    },
    {
      "metadata": {
        "id": "q1yA1NGKjnVi"
      },
      "cell_type": "markdown",
      "source": [
        "The final Dense layer has a shape of (10, ) and a softmax activation function as it would give us the probability of 10 different classes that is from 0–9. The model architecture will remain the same for all the initializers which will be used for experimental purposes. Adam and sparse_categorical_crossentropy will be used as optimizer and loss function respectively. The model was trained for a total of 20 epochs."
      ]
    },
    {
      "metadata": {
        "trusted": false,
        "colab": {
          "base_uri": "https://localhost:8080/"
        },
        "id": "deW9FUpvjnVi",
        "outputId": "c4807c31-6047-478c-ca8d-d533982dd40f"
      },
      "cell_type": "code",
      "source": [
        "import tensorflow as tf\n",
        "print(tf.__version__)"
      ],
      "execution_count": 1,
      "outputs": [
        {
          "output_type": "stream",
          "name": "stdout",
          "text": [
            "2.17.1\n"
          ]
        }
      ]
    },
    {
      "metadata": {
        "trusted": false,
        "colab": {
          "base_uri": "https://localhost:8080/"
        },
        "id": "vwx_F-iNjnVj",
        "outputId": "be8b0033-cf3f-4f5e-9596-ea519d00b755"
      },
      "cell_type": "code",
      "source": [
        "# Gather data and preprocess it\n",
        "(X_train, y_train), (X_test, y_test) = tf.keras.datasets.mnist.load_data()\n",
        "X_train, X_test = X_train / 255.0, X_test / 255.0"
      ],
      "execution_count": 2,
      "outputs": [
        {
          "output_type": "stream",
          "name": "stdout",
          "text": [
            "Downloading data from https://storage.googleapis.com/tensorflow/tf-keras-datasets/mnist.npz\n",
            "\u001b[1m11490434/11490434\u001b[0m \u001b[32m━━━━━━━━━━━━━━━━━━━━\u001b[0m\u001b[37m\u001b[0m \u001b[1m0s\u001b[0m 0us/step\n"
          ]
        }
      ]
    },
    {
      "metadata": {
        "trusted": false,
        "id": "51Jb4JI0jnVj"
      },
      "cell_type": "code",
      "source": [
        "CLASS_NAMES = ['0', '1', '2', '3', '4',\n",
        "               '5', '6', '7', '8', '9']"
      ],
      "execution_count": 3,
      "outputs": []
    },
    {
      "metadata": {
        "trusted": false,
        "id": "DOHyiAT7jnVk"
      },
      "cell_type": "code",
      "source": [
        "import matplotlib.pyplot as plt\n",
        "\n",
        "plt.figure(figsize=(10,10))\n",
        "for i in range(25):\n",
        "    plt.subplot(5,5,i+1)\n",
        "    plt.xticks([])\n",
        "    plt.yticks([])\n",
        "    plt.grid(True)\n",
        "    plt.imshow(X_train[i], cmap=plt.cm.binary)\n",
        "    plt.xlabel(CLASS_NAMES[y_train[i]])\n",
        "plt.show()"
      ],
      "execution_count": null,
      "outputs": []
    },
    {
      "metadata": {
        "trusted": false,
        "id": "egXJlR78jnVk"
      },
      "cell_type": "code",
      "source": [
        "#!pip install wandb\n",
        "import wandb"
      ],
      "execution_count": null,
      "outputs": []
    },
    {
      "metadata": {
        "trusted": false,
        "id": "Pp-okXaCjnVk"
      },
      "cell_type": "code",
      "source": [
        "from wandb.keras import WandbCallback"
      ],
      "execution_count": null,
      "outputs": []
    },
    {
      "metadata": {
        "trusted": false,
        "id": "Rln7G04ijnVl"
      },
      "cell_type": "code",
      "source": [
        "def training(init_scheme):\n",
        "    if isinstance(init_scheme, str):\n",
        "        wandb.init(project='weight-initialization-tb', sync_tensorboard=True,\n",
        "                   id=init_scheme)\n",
        "    else:\n",
        "        wandb.init(project='weight-initialization-tb', sync_tensorboard=True,\n",
        "                   id=str(init_scheme))\n",
        "\n",
        "    model = tf.keras.models.Sequential([\n",
        "        tf.keras.layers.Flatten(input_shape=(28, 28)),\n",
        "        tf.keras.layers.Dense(256, activation='relu', kernel_initializer=init_scheme,\n",
        "            bias_initializer='zeros'),\n",
        "        tf.keras.layers.Dropout(0.2),\n",
        "        tf.keras.layers.Dense(128, activation='relu', kernel_initializer=init_scheme,\n",
        "            bias_initializer='zeros'),\n",
        "        tf.keras.layers.Dropout(0.2),\n",
        "        tf.keras.layers.Dense(10, activation='softmax', kernel_initializer=init_scheme,\n",
        "            bias_initializer='zeros')\n",
        "    ])\n",
        "\n",
        "    model.compile(optimizer='adam',\n",
        "                loss='sparse_categorical_crossentropy',\n",
        "                metrics=['accuracy'])\n",
        "\n",
        "    return model, wandb.run.dir"
      ],
      "execution_count": null,
      "outputs": []
    },
    {
      "metadata": {
        "id": "YBjDk2tpjnVl"
      },
      "cell_type": "markdown",
      "source": [
        "### Zeros  "
      ]
    },
    {
      "metadata": {
        "id": "kuI-bEf9jnVl"
      },
      "cell_type": "markdown",
      "source": [
        "In this method, all the weights associated with the input are assigned to be zero. Hence, the derivative with respective to the loss function is the same for every weight in each iteration. It is then similar to a linear model."
      ]
    },
    {
      "metadata": {
        "trusted": false,
        "id": "I22XAo4tjnVl"
      },
      "cell_type": "code",
      "source": [
        "model_w_zeros, run_dir = training(init_scheme='zeros')\n",
        "\n",
        "tb_callback = tf.keras.callbacks.TensorBoard(log_dir=run_dir, histogram_freq=4, write_images=True)\n",
        "\n",
        "model_w_zeros.fit(X_train, y_train,\n",
        "    validation_data=(X_test, y_test),\n",
        "    epochs=20, batch_size=128,\n",
        "    callbacks=[WandbCallback(data_type='image', labels=CLASS_NAMES,\n",
        "                             validation_data=(X_test, y_test)),\n",
        "               tb_callback])"
      ],
      "execution_count": null,
      "outputs": []
    },
    {
      "metadata": {
        "id": "QIanEEOfjnVl"
      },
      "cell_type": "markdown",
      "source": [
        "![image.png](attachment:image.png)"
      ]
    },
    {
      "metadata": {
        "id": "sjlyGtkkjnVm"
      },
      "cell_type": "markdown",
      "source": [
        "![image.png](attachment:image.png)"
      ]
    },
    {
      "metadata": {
        "id": "KS62kh5JjnVm"
      },
      "cell_type": "markdown",
      "source": [
        "![image.png](attachment:image.png)"
      ]
    },
    {
      "metadata": {
        "id": "ROHUfhA_jnVm"
      },
      "cell_type": "markdown",
      "source": [
        "### Ones"
      ]
    },
    {
      "metadata": {
        "id": "g2yNwftJjnVm"
      },
      "cell_type": "markdown",
      "source": [
        "In this method, all the weights associated with the input are assigned to one but it is still comparatively better than assigning weights to zero because the product of WiXi is not zero as Wi’s are not zero in this method."
      ]
    },
    {
      "metadata": {
        "trusted": false,
        "id": "uFK_qG3CjnVm"
      },
      "cell_type": "code",
      "source": [
        "model_w_ones, run_dir = training(init_scheme='ones')\n",
        "\n",
        "tb_callback = tf.keras.callbacks.TensorBoard(log_dir=run_dir, histogram_freq=4, write_images=True)\n",
        "\n",
        "model_w_ones.fit(X_train, y_train,\n",
        "    validation_data=(X_test, y_test),\n",
        "    epochs=20, batch_size=128,\n",
        "    callbacks=[WandbCallback(data_type='image', labels=CLASS_NAMES,\n",
        "                             validation_data=(X_test, y_test)),\n",
        "               tb_callback])"
      ],
      "execution_count": null,
      "outputs": []
    },
    {
      "metadata": {
        "id": "uyp28SzmjnVm"
      },
      "cell_type": "markdown",
      "source": [
        "![image.png](attachment:image.png)"
      ]
    },
    {
      "metadata": {
        "id": "IAFcYqpZjnVn"
      },
      "cell_type": "markdown",
      "source": [
        "![image.png](attachment:image.png)"
      ]
    },
    {
      "metadata": {
        "id": "gNhrpkFNjnVn"
      },
      "cell_type": "markdown",
      "source": [
        "![image.png](attachment:image.png)"
      ]
    },
    {
      "metadata": {
        "id": "A-Wh7qO1jnVn"
      },
      "cell_type": "markdown",
      "source": [
        "### Orthogonal"
      ]
    },
    {
      "metadata": {
        "id": "B3SqdvLXjnVn"
      },
      "cell_type": "markdown",
      "source": [
        "Orthogonal initialization proves really beneficial in optimizing deep neural networks. It speeds up the convergence relative to the standard Gaussian initialization. For deep neural networks, the width needed for efficient convergence to a global minimum with orthogonal initialization is independent of the depth. It generates a random orthogonal matrix at the time of its execution. Orthogonal initializer returns a tensor that if multiplied by its transpose, gives an identity tensor.<br>\n",
        "Arguments:\n",
        "* gain: Multiplicative factor to apply to the orthogonal matrix.\n",
        "* seed: A Python integer. Used to seed the random generator."
      ]
    },
    {
      "metadata": {
        "trusted": false,
        "id": "4OjeeLb9jnVn"
      },
      "cell_type": "code",
      "source": [
        "Orthogonal, run_dir = training(init_scheme='Orthogonal')\n",
        "\n",
        "tb_callback = tf.keras.callbacks.TensorBoard(log_dir=run_dir, histogram_freq=4, write_images=True)\n",
        "\n",
        "Orthogonal.fit(X_train, y_train,\n",
        "    validation_data=(X_test, y_test),\n",
        "    epochs=20, batch_size=128,\n",
        "    callbacks=[WandbCallback(data_type='image', labels=CLASS_NAMES,\n",
        "                             validation_data=(X_test, y_test)),\n",
        "               tb_callback])"
      ],
      "execution_count": null,
      "outputs": []
    },
    {
      "metadata": {
        "id": "ZrhJf1YEjnVn"
      },
      "cell_type": "markdown",
      "source": [
        "![image.png](attachment:image.png)"
      ]
    },
    {
      "metadata": {
        "id": "11m2uEuWjnVn"
      },
      "cell_type": "markdown",
      "source": [
        "![image.png](attachment:image.png)"
      ]
    },
    {
      "metadata": {
        "id": "L-600VqJjnVo"
      },
      "cell_type": "markdown",
      "source": [
        "![image.png](attachment:image.png)"
      ]
    },
    {
      "metadata": {
        "id": "VHkhlqSqjnVo"
      },
      "cell_type": "markdown",
      "source": [
        "### Identity"
      ]
    },
    {
      "metadata": {
        "id": "dW3HPaC0jnVo"
      },
      "cell_type": "markdown",
      "source": [
        "Identity initializer returns a tensor with 0’s everywhere except for 1’s at the diagonal. It is only used for 2D matrices.<br>\n",
        "Arguments:\n",
        "* gain: Multiplicative factor to apply to the identity matrix.\n",
        "* dtype: The type of the output."
      ]
    },
    {
      "metadata": {
        "trusted": false,
        "id": "edOX3RFajnVo"
      },
      "cell_type": "code",
      "source": [
        "Identity, run_dir = training(init_scheme='Identity')\n",
        "\n",
        "tb_callback = tf.keras.callbacks.TensorBoard(log_dir=run_dir, histogram_freq=4, write_images=True)\n",
        "\n",
        "Identity.fit(X_train, y_train,\n",
        "    validation_data=(X_test, y_test),\n",
        "    epochs=20, batch_size=128,\n",
        "    callbacks=[WandbCallback(data_type='image', labels=CLASS_NAMES,\n",
        "                             validation_data=(X_test, y_test)),\n",
        "               tb_callback])"
      ],
      "execution_count": null,
      "outputs": []
    },
    {
      "metadata": {
        "id": "qH708K0KjnVo"
      },
      "cell_type": "markdown",
      "source": [
        "![image.png](attachment:image.png)"
      ]
    },
    {
      "metadata": {
        "id": "t5yF0Qj3jnVo"
      },
      "cell_type": "markdown",
      "source": [
        "![image.png](attachment:image.png)"
      ]
    },
    {
      "metadata": {
        "id": "cA1YA2TejnVs"
      },
      "cell_type": "markdown",
      "source": [
        "![image.png](attachment:image.png)"
      ]
    },
    {
      "metadata": {
        "id": "dOoBm98sjnVt"
      },
      "cell_type": "markdown",
      "source": [
        "### Random Normal"
      ]
    },
    {
      "metadata": {
        "id": "0NIpjONQjnVt"
      },
      "cell_type": "markdown",
      "source": [
        "Assigning random weight values is better than assigning ones or zeros as weight values as we saw earlier the accuracy of one and zero initializers being reasonably low. On the other hand, if randomly initialized weight values are very high or very low then it may lead to problems known as exploding gradients and vanishing gradients respectively.<br>\n",
        "In this method, the initializer generates tensors with a normal distribution.<br>\n",
        "Arguments:\n",
        "* mean: a python scalar or a scalar-tensor. Mean of the random values to generate.\n",
        "* stddev: a python scalar or a scalar-tensor. The standard deviation of the random values to generate.\n",
        "* seed: A Python integer. Used to seed the random generator.\n"
      ]
    },
    {
      "metadata": {
        "trusted": false,
        "id": "g-s6FZJPjnVt"
      },
      "cell_type": "code",
      "source": [
        "rand_normal, run_dir = training(init_scheme='RandomNormal')\n",
        "\n",
        "tb_callback = tf.keras.callbacks.TensorBoard(log_dir=run_dir, histogram_freq=4, write_images=True)\n",
        "\n",
        "rand_normal.fit(X_train, y_train,\n",
        "    validation_data=(X_test, y_test),\n",
        "    epochs=20, batch_size=128,\n",
        "    callbacks=[WandbCallback(data_type='image', labels=CLASS_NAMES,\n",
        "                             validation_data=(X_test, y_test)),\n",
        "               tb_callback])"
      ],
      "execution_count": null,
      "outputs": []
    },
    {
      "metadata": {
        "id": "2EZRR5pXjnVt"
      },
      "cell_type": "markdown",
      "source": [
        "![image.png](attachment:image.png)"
      ]
    },
    {
      "metadata": {
        "id": "mrmUfxSbjnVu"
      },
      "cell_type": "markdown",
      "source": [
        "![image.png](attachment:image.png)"
      ]
    },
    {
      "metadata": {
        "id": "OoxmYGYJjnVu"
      },
      "cell_type": "markdown",
      "source": [
        "![image.png](attachment:image.png)"
      ]
    },
    {
      "metadata": {
        "id": "xp3ygVKXjnVu"
      },
      "cell_type": "markdown",
      "source": [
        "### Random Uniform"
      ]
    },
    {
      "metadata": {
        "id": "mbGzFjM_jnVu"
      },
      "cell_type": "markdown",
      "source": [
        "In this method, the initializer generates tensors with a uniform distribution.<br>\n",
        "Arguments:\n",
        "* minval: A python scalar or a scalar-tensor. Lower bound of the range of random values to generate.\n",
        "* maxval: A python scalar or a scalar-tensor. Upper bound of the range of random values to generate. Defaults to 1 for float types.\n",
        "* seed: A Python integer. Used to seed the random generator.\n"
      ]
    },
    {
      "metadata": {
        "scrolled": true,
        "trusted": false,
        "id": "sXHskg4pjnVu"
      },
      "cell_type": "code",
      "source": [
        "rand_uniform, run_dir = training(init_scheme='RandomUniform')\n",
        "\n",
        "tb_callback = tf.keras.callbacks.TensorBoard(log_dir=run_dir, histogram_freq=4, write_images=True)\n",
        "\n",
        "rand_uniform.fit(X_train, y_train,\n",
        "    validation_data=(X_test, y_test),\n",
        "    epochs=20, batch_size=128,\n",
        "    callbacks=[WandbCallback(data_type='image', labels=CLASS_NAMES,\n",
        "                             validation_data=(X_test, y_test)),\n",
        "               tb_callback])"
      ],
      "execution_count": null,
      "outputs": []
    },
    {
      "metadata": {
        "id": "9LE1wRhcjnVv"
      },
      "cell_type": "markdown",
      "source": [
        "![image.png](attachment:image.png)"
      ]
    },
    {
      "metadata": {
        "id": "35hQARdMjnVv"
      },
      "cell_type": "markdown",
      "source": [
        "![image.png](attachment:image.png)"
      ]
    },
    {
      "metadata": {
        "id": "Z2bQSYMGjnVv"
      },
      "cell_type": "markdown",
      "source": [
        "![image.png](attachment:image.png)"
      ]
    },
    {
      "metadata": {
        "id": "5U_1mLF1jnVv"
      },
      "cell_type": "markdown",
      "source": [
        "### Glorot Normal"
      ]
    },
    {
      "metadata": {
        "id": "MHke_E9YjnVv"
      },
      "cell_type": "markdown",
      "source": [
        "Glorot Normal Initializer is also known as Xavier Normal Initializer. It is similar to He initializer but it is used for tanh activation functions. It draws samples from a truncated normal distribution centered on 0 with stddev = sqrt(2 / (fan_in + fan_out)) where fan_in is the number of input units in the weight tensor and fan_out is the number of output units in the weight tensor.<br>\n",
        "Arguments:\n",
        "* seed: A Python integer. Used to seed the random generator."
      ]
    },
    {
      "metadata": {
        "trusted": false,
        "id": "koR51ncDjnVv"
      },
      "cell_type": "code",
      "source": [
        "glorot_normal, run_dir = training(init_scheme='glorot_normal')\n",
        "\n",
        "tb_callback = tf.keras.callbacks.TensorBoard(log_dir=run_dir, histogram_freq=4, write_images=True)\n",
        "\n",
        "glorot_normal.fit(X_train, y_train,\n",
        "    validation_data=(X_test, y_test),\n",
        "    epochs=20, batch_size=128,\n",
        "    callbacks=[WandbCallback(data_type='image', labels=CLASS_NAMES,\n",
        "                             validation_data=(X_test, y_test)),\n",
        "               tb_callback])"
      ],
      "execution_count": null,
      "outputs": []
    },
    {
      "metadata": {
        "id": "vnKcrdlVjnVw"
      },
      "cell_type": "markdown",
      "source": [
        "![image.png](attachment:image.png)"
      ]
    },
    {
      "metadata": {
        "id": "UxFnu8fLjnVw"
      },
      "cell_type": "markdown",
      "source": [
        "![image.png](attachment:image.png)"
      ]
    },
    {
      "metadata": {
        "id": "2qQRh2LVjnVw"
      },
      "cell_type": "markdown",
      "source": [
        "![image.png](attachment:image.png)"
      ]
    },
    {
      "metadata": {
        "id": "EVjCbCcEjnVw"
      },
      "cell_type": "markdown",
      "source": [
        "### Glorot Uniform"
      ]
    },
    {
      "metadata": {
        "id": "4Z4fj5uqjnVw"
      },
      "cell_type": "markdown",
      "source": [
        "Glorot Uniform Initializer is also known as Xavier Uniform Initializer. It is similar to He initializer but it is used for tanh activation functions. It draws samples from a uniform distribution within [-limit, limit] where limit is sqrt(6 / (fan_in + fan_out)) where fan_in is the number of input units in the weight tensor and fan_out is the number of output units in the weight tensor.<br>\n",
        "Arguments:\n",
        "* seed: A Python integer. Used to seed the random generator."
      ]
    },
    {
      "metadata": {
        "trusted": false,
        "id": "Oq065I6AjnVx"
      },
      "cell_type": "code",
      "source": [
        "glorot_uniform, run_dir = training(init_scheme='glorot_uniform')\n",
        "\n",
        "tb_callback = tf.keras.callbacks.TensorBoard(log_dir=run_dir, histogram_freq=4, write_images=True)\n",
        "\n",
        "glorot_uniform.fit(X_train, y_train,\n",
        "    validation_data=(X_test, y_test),\n",
        "    epochs=20, batch_size=128,\n",
        "    callbacks=[WandbCallback(data_type='image', labels=CLASS_NAMES,\n",
        "                             validation_data=(X_test, y_test)),\n",
        "               tb_callback])"
      ],
      "execution_count": null,
      "outputs": []
    },
    {
      "metadata": {
        "id": "3LhZdA9vjnVx"
      },
      "cell_type": "markdown",
      "source": [
        "![image.png](attachment:image.png)"
      ]
    },
    {
      "metadata": {
        "id": "xeTlX0snjnVx"
      },
      "cell_type": "markdown",
      "source": [
        "![image.png](attachment:image.png)"
      ]
    },
    {
      "metadata": {
        "id": "IkiAbbsgjnVx"
      },
      "cell_type": "markdown",
      "source": [
        "![image.png](attachment:image.png)"
      ]
    },
    {
      "metadata": {
        "id": "8SFapF0qjnVx"
      },
      "cell_type": "markdown",
      "source": [
        "### He Normal"
      ]
    },
    {
      "metadata": {
        "id": "rF40y2YajnVx"
      },
      "cell_type": "markdown",
      "source": [
        "In this method, we multiply the random initializations with stddev to get better results. It draws samples from a truncated normal distribution centered on 0 with stddev = sqrt(2 / fan_in) where fan_in is the number of input units in the weight tensor.<br>\n",
        "Arguments:\n",
        "* seed: A Python integer. Used to seed the random generator."
      ]
    },
    {
      "metadata": {
        "trusted": false,
        "id": "CWs-12HMjnVx"
      },
      "cell_type": "code",
      "source": [
        "he_normal, run_dir = training(init_scheme='he_normal')\n",
        "\n",
        "tb_callback = tf.keras.callbacks.TensorBoard(log_dir=run_dir, histogram_freq=4, write_images=True)\n",
        "\n",
        "he_normal.fit(X_train, y_train,\n",
        "    validation_data=(X_test, y_test),\n",
        "    epochs=20, batch_size=128,\n",
        "    callbacks=[WandbCallback(data_type='image', labels=CLASS_NAMES,\n",
        "                             validation_data=(X_test, y_test)),\n",
        "               tb_callback])"
      ],
      "execution_count": null,
      "outputs": []
    },
    {
      "metadata": {
        "id": "J8epzf3ijnVy"
      },
      "cell_type": "markdown",
      "source": [
        "![image.png](attachment:image.png)"
      ]
    },
    {
      "metadata": {
        "id": "tU4_NTB7jnVy"
      },
      "cell_type": "markdown",
      "source": [
        "![image.png](attachment:image.png)"
      ]
    },
    {
      "metadata": {
        "id": "5dxmuRWQjnVy"
      },
      "cell_type": "markdown",
      "source": [
        "![image.png](attachment:image.png)"
      ]
    },
    {
      "metadata": {
        "id": "LTvIYcfJjnVy"
      },
      "cell_type": "markdown",
      "source": [
        "### He Uniform"
      ]
    },
    {
      "metadata": {
        "id": "JnwKZl9JjnVy"
      },
      "cell_type": "markdown",
      "source": [
        "In this method, it draws samples from a uniform distribution within [-limit, limit] where the limit is sqrt(6 / fan_in) where fan_in is the number of input units in the weight tensor.<br>\n",
        "Arguments:\n",
        "* seed: A Python integer. Used to seed the random generator.\n"
      ]
    },
    {
      "metadata": {
        "trusted": false,
        "id": "11H6v8jhjnVy"
      },
      "cell_type": "code",
      "source": [
        "he_uniform, run_dir = training(init_scheme='he_uniform')\n",
        "\n",
        "tb_callback = tf.keras.callbacks.TensorBoard(log_dir=run_dir, histogram_freq=4, write_images=True)\n",
        "\n",
        "he_uniform.fit(X_train, y_train,\n",
        "    validation_data=(X_test, y_test),\n",
        "    epochs=20, batch_size=128,\n",
        "    callbacks=[WandbCallback(data_type='image', labels=CLASS_NAMES,\n",
        "                             validation_data=(X_test, y_test)),\n",
        "               tb_callback])"
      ],
      "execution_count": null,
      "outputs": []
    },
    {
      "metadata": {
        "id": "aWICZA_6jnVz"
      },
      "cell_type": "markdown",
      "source": [
        "![image.png](attachment:image.png)"
      ]
    },
    {
      "metadata": {
        "id": "AjHEiT1DjnVz"
      },
      "cell_type": "markdown",
      "source": [
        "![image.png](attachment:image.png)"
      ]
    },
    {
      "metadata": {
        "id": "44RcKXesjnVz"
      },
      "cell_type": "markdown",
      "source": [
        "![image.png](attachment:image.png)"
      ]
    },
    {
      "metadata": {
        "id": "IZWyiZqyjnVz"
      },
      "cell_type": "markdown",
      "source": [
        "### LeCun Uniform"
      ]
    },
    {
      "metadata": {
        "id": "uFiy5V51jnVz"
      },
      "cell_type": "markdown",
      "source": [
        "In this method, it draws samples from a uniform distribution within [-limit, limit] where the limit is sqrt(3 / fan_in) where fan_in is the number of input units in the weight tensor.<br>\n",
        "Arguments:\n",
        "* seed: A Python integer. Used to seed the random generator."
      ]
    },
    {
      "metadata": {
        "trusted": false,
        "id": "Qw7Oxrn_jnVz"
      },
      "cell_type": "code",
      "source": [
        "lecun_uniform, run_dir = training(init_scheme='lecun_uniform')\n",
        "\n",
        "tb_callback = tf.keras.callbacks.TensorBoard(log_dir=run_dir, histogram_freq=4, write_images=True)\n",
        "\n",
        "lecun_uniform.fit(X_train, y_train,\n",
        "    validation_data=(X_test, y_test),\n",
        "    epochs=20, batch_size=128,\n",
        "    callbacks=[WandbCallback(data_type='image', labels=CLASS_NAMES,\n",
        "                             validation_data=(X_test, y_test)),\n",
        "               tb_callback])"
      ],
      "execution_count": null,
      "outputs": []
    },
    {
      "metadata": {
        "id": "cx3NV-rUjnVz"
      },
      "cell_type": "markdown",
      "source": [
        "![image.png](attachment:image.png)"
      ]
    },
    {
      "metadata": {
        "id": "CkTCYsOYjnV0"
      },
      "cell_type": "markdown",
      "source": [
        "![image.png](attachment:image.png)"
      ]
    },
    {
      "metadata": {
        "id": "9GQY9WcejnV0"
      },
      "cell_type": "markdown",
      "source": [
        "![image.png](attachment:image.png)"
      ]
    },
    {
      "metadata": {
        "id": "AAHpMGkkjnV0"
      },
      "cell_type": "markdown",
      "source": [
        "### LeCun Normal"
      ]
    },
    {
      "metadata": {
        "id": "K_RksxpGjnV0"
      },
      "cell_type": "markdown",
      "source": [
        "In this method, it draws samples from a truncated normal distribution centered on 0 with stddev = sqrt(1 / fan_in) where fan_in is the number of input units in the weight tensor.<br>\n",
        "Arguments:\n",
        "* seed: A Python integer. Used to seed the random generator.\n"
      ]
    },
    {
      "metadata": {
        "trusted": false,
        "id": "nI1DKlmvjnV0"
      },
      "cell_type": "code",
      "source": [
        "lecun_normal, run_dir = training(init_scheme='lecun_normal')\n",
        "\n",
        "tb_callback = tf.keras.callbacks.TensorBoard(log_dir=run_dir, histogram_freq=4, write_images=True)\n",
        "\n",
        "lecun_normal.fit(X_train, y_train,\n",
        "    validation_data=(X_test, y_test),\n",
        "    epochs=20, batch_size=128,\n",
        "    callbacks=[WandbCallback(data_type='image', labels=CLASS_NAMES,\n",
        "                             validation_data=(X_test, y_test)),\n",
        "               tb_callback])"
      ],
      "execution_count": null,
      "outputs": []
    },
    {
      "metadata": {
        "id": "atUPCmbpjnV0"
      },
      "cell_type": "markdown",
      "source": [
        "![image.png](attachment:image.png)"
      ]
    },
    {
      "metadata": {
        "id": "v0vM6qvdjnV1"
      },
      "cell_type": "markdown",
      "source": [
        "![image.png](attachment:image.png)"
      ]
    },
    {
      "metadata": {
        "id": "1rFmIxZ2jnV1"
      },
      "cell_type": "markdown",
      "source": [
        "![image.png](attachment:image.png)"
      ]
    },
    {
      "metadata": {
        "id": "Tq-ES9WojnV1"
      },
      "cell_type": "markdown",
      "source": [
        "**Conclusion**"
      ]
    },
    {
      "metadata": {
        "id": "U6YUGgBbjnV1"
      },
      "cell_type": "markdown",
      "source": [
        "The weight initialization methods such as He, Glorot, LeCun and are much better than some of the weight initialization methods discussed at the start. Although, the random normal and random uniform initializers have good accuracy they are not reproducible and are the source of vanishing gradient and exploding gradient problems. Some of the new techniques discussed at the end set weights neither too much bigger than 1 nor too much less than 1. Adding to it, the time taken for convergence is also less. Hence, we can conclude that all the initializers have their own significance but the objective of avoiding slow convergence remains the same for all but only a few are able to achieve it."
      ]
    },
    {
      "metadata": {
        "id": "ifsHNrdrjnV1"
      },
      "cell_type": "markdown",
      "source": [
        "**References**"
      ]
    },
    {
      "metadata": {
        "id": "b0J-yedzjnV1"
      },
      "cell_type": "markdown",
      "source": [
        "https://www.tensorflow.org/api_docs/python/tf/keras/initializers"
      ]
    },
    {
      "metadata": {
        "id": "825iiLjyjnV1"
      },
      "cell_type": "markdown",
      "source": [
        "I have written a blog on it as well: https://medium.com/guidona-softpedia/weight-initialization-methods-in-neural-networks-a3e7a793cee5"
      ]
    }
  ],
  "metadata": {
    "kernelspec": {
      "language": "python",
      "display_name": "Python 3",
      "name": "python3"
    },
    "language_info": {
      "pygments_lexer": "ipython3",
      "nbconvert_exporter": "python",
      "version": "3.6.4",
      "file_extension": ".py",
      "codemirror_mode": {
        "name": "ipython",
        "version": 3
      },
      "name": "python",
      "mimetype": "text/x-python"
    },
    "colab": {
      "provenance": [],
      "include_colab_link": true
    }
  },
  "nbformat": 4,
  "nbformat_minor": 0
}